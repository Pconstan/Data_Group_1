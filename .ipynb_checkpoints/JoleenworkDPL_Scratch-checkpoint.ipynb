{
 "cells": [
  {
   "cell_type": "code",
   "execution_count": 4,
   "metadata": {},
   "outputs": [],
   "source": [
    "## Import Dependencies\n",
    "\n",
    "from matplotlib import pyplot as plt\n",
    "%matplotlib inline\n",
    "import pandas as pd\n",
    "import datetime as dt\n",
    "import time\n",
    "import seaborn as sns\n",
    "import numpy as np\n",
    "import scipy.stats as stats"
   ]
  },
  {
   "cell_type": "code",
   "execution_count": null,
   "metadata": {},
   "outputs": [],
   "source": []
  },
  {
   "cell_type": "code",
   "execution_count": 5,
   "metadata": {},
   "outputs": [],
   "source": [
    "#Read in the power data for DP&L\n",
    "df = pd.read_csv('DPL_Hourly_Consumption.csv',parse_dates =['Datetime'])"
   ]
  },
  {
   "cell_type": "code",
   "execution_count": 6,
   "metadata": {},
   "outputs": [
    {
     "name": "stdout",
     "output_type": "stream",
     "text": [
      "<class 'pandas.core.frame.DataFrame'>\n",
      "RangeIndex: 121275 entries, 0 to 121274\n",
      "Data columns (total 2 columns):\n",
      "Datetime     121275 non-null datetime64[ns]\n",
      "DAYTON_MW    121275 non-null int64\n",
      "dtypes: datetime64[ns](1), int64(1)\n",
      "memory usage: 1.9 MB\n"
     ]
    }
   ],
   "source": [
    "df.info()"
   ]
  },
  {
   "cell_type": "code",
   "execution_count": 7,
   "metadata": {},
   "outputs": [
    {
     "data": {
      "image/png": "[encoded data removed]",
      "text/plain": [
       "<Figure size 432x288 with 1 Axes>"
      ]
     },
     "metadata": {
      "needs_background": "light"
     },
     "output_type": "display_data"
    }
   ],
   "source": [
    "## some simple plots to visualize the data\n",
    "\n",
    "x = df[(df.Datetime> \"2017-08-01\") & (df.Datetime <= '2018-08-01')].Datetime\n",
    "y = df[(df.Datetime> \"2017-08-01\") & (df.Datetime <= '2018-08-01')].DAYTON_MW\n",
    "x2 = df[(df.Datetime> \"2006-08-01\") & (df.Datetime <= '2007-08-01')].Datetime\n",
    "y2 = df[(df.Datetime> \"2006-08-01\") & (df.Datetime <= '2007-08-01')].DAYTON_MW\n",
    "x3 = df[(df.Datetime> \"2010-08-01\") & (df.Datetime <= '2011-08-01')].Datetime\n",
    "y3 = df[(df.Datetime> \"2010-08-01\") & (df.Datetime <= '2011-08-01')].DAYTON_MW\n",
    "plt.plot(x,y)\n",
    "plt.plot(x2,y2)\n",
    "plt.plot(x3,y3)\n",
    "\n",
    "plt.show()\n",
    "\n"
   ]
  },
  {
   "cell_type": "code",
   "execution_count": 8,
   "metadata": {},
   "outputs": [],
   "source": [
    "# Read in Weather Data\n",
    "\n",
    "Wd = pd.read_json(\"weather_data_json_dayton_bulkText.json\")"
   ]
  },
  {
   "cell_type": "code",
   "execution_count": 9,
   "metadata": {},
   "outputs": [
    {
     "name": "stdout",
     "output_type": "stream",
     "text": [
      "<class 'pandas.core.frame.DataFrame'>\n",
      "RangeIndex: 42169 entries, 0 to 42168\n",
      "Data columns (total 9 columns):\n",
      "city_id    42169 non-null int64\n",
      "clouds     42169 non-null object\n",
      "dt         42169 non-null int64\n",
      "dt_iso     42169 non-null object\n",
      "main       42169 non-null object\n",
      "rain       6327 non-null object\n",
      "snow       46 non-null object\n",
      "weather    42169 non-null object\n",
      "wind       42169 non-null object\n",
      "dtypes: int64(2), object(7)\n",
      "memory usage: 2.9+ MB\n"
     ]
    }
   ],
   "source": [
    "Wd.head()\n",
    "Wd.info()"
   ]
  },
  {
   "cell_type": "code",
   "execution_count": 10,
   "metadata": {},
   "outputs": [],
   "source": [
    "## Cleaner way to pull this in as datetime.. create column and use the lambda to get rid of the extra UTC datetime data\n",
    "Wd['Date_Clean'] = (Wd['dt_iso'].apply(lambda x: x[:19])\n",
    "                    .apply(lambda x : dt.datetime.strptime(x, \"%Y-%m-%d %H:%M:%S\"))\n",
    "                   )"
   ]
  },
  {
   "cell_type": "code",
   "execution_count": 11,
   "metadata": {},
   "outputs": [
    {
     "data": {
      "text/html": [
       "<div>\n",
       "<style scoped>\n",
       "    .dataframe tbody tr th:only-of-type {\n",
       "        vertical-align: middle;\n",
       "    }\n",
       "\n",
       "    .dataframe tbody tr th {\n",
       "        vertical-align: top;\n",
       "    }\n",
       "\n",
       "    .dataframe thead th {\n",
       "        text-align: right;\n",
       "    }\n",
       "</style>\n",
       "<table border=\"1\" class=\"dataframe\">\n",
       "  <thead>\n",
       "    <tr style=\"text-align: right;\">\n",
       "      <th></th>\n",
       "      <th>city_id</th>\n",
       "      <th>clouds</th>\n",
       "      <th>dt</th>\n",
       "      <th>dt_iso</th>\n",
       "      <th>main</th>\n",
       "      <th>rain</th>\n",
       "      <th>snow</th>\n",
       "      <th>weather</th>\n",
       "      <th>wind</th>\n",
       "      <th>Date_Clean</th>\n",
       "      <th>year</th>\n",
       "      <th>month</th>\n",
       "      <th>day</th>\n",
       "      <th>day_of_week</th>\n",
       "      <th>weekend</th>\n",
       "    </tr>\n",
       "  </thead>\n",
       "  <tbody>\n",
       "    <tr>\n",
       "      <th>0</th>\n",
       "      <td>4509884</td>\n",
       "      <td>{'all': 75}</td>\n",
       "      <td>1349096400</td>\n",
       "      <td>2012-10-01 13:00:00 +0000 UTC</td>\n",
       "      <td>{'temp': 284.02, 'temp_min': 282.15, 'temp_max...</td>\n",
       "      <td>NaN</td>\n",
       "      <td>NaN</td>\n",
       "      <td>[{'id': 803, 'main': 'Clouds', 'description': ...</td>\n",
       "      <td>{'speed': 2, 'deg': 30}</td>\n",
       "      <td>2012-10-01 13:00:00</td>\n",
       "      <td>2012</td>\n",
       "      <td>10</td>\n",
       "      <td>1</td>\n",
       "      <td>0</td>\n",
       "      <td>0</td>\n",
       "    </tr>\n",
       "    <tr>\n",
       "      <th>1</th>\n",
       "      <td>4509884</td>\n",
       "      <td>{'all': 75}</td>\n",
       "      <td>1349100000</td>\n",
       "      <td>2012-10-01 14:00:00 +0000 UTC</td>\n",
       "      <td>{'temp': 285.83, 'temp_min': 284.26, 'temp_max...</td>\n",
       "      <td>NaN</td>\n",
       "      <td>NaN</td>\n",
       "      <td>[{'id': 803, 'main': 'Clouds', 'description': ...</td>\n",
       "      <td>{'speed': 2, 'deg': 50}</td>\n",
       "      <td>2012-10-01 14:00:00</td>\n",
       "      <td>2012</td>\n",
       "      <td>10</td>\n",
       "      <td>1</td>\n",
       "      <td>0</td>\n",
       "      <td>0</td>\n",
       "    </tr>\n",
       "    <tr>\n",
       "      <th>2</th>\n",
       "      <td>4509884</td>\n",
       "      <td>{'all': 75}</td>\n",
       "      <td>1349190000</td>\n",
       "      <td>2012-10-02 15:00:00 +0000 UTC</td>\n",
       "      <td>{'temp': 287.44, 'temp_min': 286.48, 'temp_max...</td>\n",
       "      <td>NaN</td>\n",
       "      <td>NaN</td>\n",
       "      <td>[{'id': 803, 'main': 'Clouds', 'description': ...</td>\n",
       "      <td>{'speed': 3, 'deg': 90}</td>\n",
       "      <td>2012-10-02 15:00:00</td>\n",
       "      <td>2012</td>\n",
       "      <td>10</td>\n",
       "      <td>2</td>\n",
       "      <td>1</td>\n",
       "      <td>0</td>\n",
       "    </tr>\n",
       "    <tr>\n",
       "      <th>3</th>\n",
       "      <td>4509884</td>\n",
       "      <td>{'all': 1}</td>\n",
       "      <td>1349193600</td>\n",
       "      <td>2012-10-02 16:00:00 +0000 UTC</td>\n",
       "      <td>{'temp': 288.31, 'temp_min': 287.15, 'temp_max...</td>\n",
       "      <td>NaN</td>\n",
       "      <td>NaN</td>\n",
       "      <td>[{'id': 800, 'main': 'Clear', 'description': '...</td>\n",
       "      <td>{'speed': 3, 'deg': 70}</td>\n",
       "      <td>2012-10-02 16:00:00</td>\n",
       "      <td>2012</td>\n",
       "      <td>10</td>\n",
       "      <td>2</td>\n",
       "      <td>1</td>\n",
       "      <td>0</td>\n",
       "    </tr>\n",
       "    <tr>\n",
       "      <th>4</th>\n",
       "      <td>4509884</td>\n",
       "      <td>{'all': 40}</td>\n",
       "      <td>1349197200</td>\n",
       "      <td>2012-10-02 17:00:00 +0000 UTC</td>\n",
       "      <td>{'temp': 289.5, 'temp_min': 288.71, 'temp_max'...</td>\n",
       "      <td>NaN</td>\n",
       "      <td>NaN</td>\n",
       "      <td>[{'id': 802, 'main': 'Clouds', 'description': ...</td>\n",
       "      <td>{'speed': 4, 'deg': 80}</td>\n",
       "      <td>2012-10-02 17:00:00</td>\n",
       "      <td>2012</td>\n",
       "      <td>10</td>\n",
       "      <td>2</td>\n",
       "      <td>1</td>\n",
       "      <td>0</td>\n",
       "    </tr>\n",
       "  </tbody>\n",
       "</table>\n",
       "</div>"
      ],
      "text/plain": [
       "   city_id       clouds          dt                         dt_iso  \\\n",
       "0  4509884  {'all': 75}  1349096400  2012-10-01 13:00:00 +0000 UTC   \n",
       "1  4509884  {'all': 75}  1349100000  2012-10-01 14:00:00 +0000 UTC   \n",
       "2  4509884  {'all': 75}  1349190000  2012-10-02 15:00:00 +0000 UTC   \n",
       "3  4509884   {'all': 1}  1349193600  2012-10-02 16:00:00 +0000 UTC   \n",
       "4  4509884  {'all': 40}  1349197200  2012-10-02 17:00:00 +0000 UTC   \n",
       "\n",
       "                                                main rain snow  \\\n",
       "0  {'temp': 284.02, 'temp_min': 282.15, 'temp_max...  NaN  NaN   \n",
       "1  {'temp': 285.83, 'temp_min': 284.26, 'temp_max...  NaN  NaN   \n",
       "2  {'temp': 287.44, 'temp_min': 286.48, 'temp_max...  NaN  NaN   \n",
       "3  {'temp': 288.31, 'temp_min': 287.15, 'temp_max...  NaN  NaN   \n",
       "4  {'temp': 289.5, 'temp_min': 288.71, 'temp_max'...  NaN  NaN   \n",
       "\n",
       "                                             weather                     wind  \\\n",
       "0  [{'id': 803, 'main': 'Clouds', 'description': ...  {'speed': 2, 'deg': 30}   \n",
       "1  [{'id': 803, 'main': 'Clouds', 'description': ...  {'speed': 2, 'deg': 50}   \n",
       "2  [{'id': 803, 'main': 'Clouds', 'description': ...  {'speed': 3, 'deg': 90}   \n",
       "3  [{'id': 800, 'main': 'Clear', 'description': '...  {'speed': 3, 'deg': 70}   \n",
       "4  [{'id': 802, 'main': 'Clouds', 'description': ...  {'speed': 4, 'deg': 80}   \n",
       "\n",
       "           Date_Clean  year  month  day  day_of_week  weekend  \n",
       "0 2012-10-01 13:00:00  2012     10    1            0        0  \n",
       "1 2012-10-01 14:00:00  2012     10    1            0        0  \n",
       "2 2012-10-02 15:00:00  2012     10    2            1        0  \n",
       "3 2012-10-02 16:00:00  2012     10    2            1        0  \n",
       "4 2012-10-02 17:00:00  2012     10    2            1        0  "
      ]
     },
     "execution_count": 11,
     "metadata": {},
     "output_type": "execute_result"
    }
   ],
   "source": [
    "# because we are going to make use of the dates in our analysis .. rows for month year, day, day of week, and weekend are created. \n",
    "\n",
    "Wd2 = Wd.assign(year = Wd['Date_Clean'].dt.year,\n",
    "         month = Wd['Date_Clean'].dt.month,\n",
    "         day = Wd['Date_Clean'].dt.day,\n",
    "         day_of_week = Wd['Date_Clean'].dt.weekday,\n",
    "         weekend = Wd['Date_Clean'].dt.weekday.apply(lambda x : 1 if x > 4 else 0)).copy()\n",
    "Wd2.head()"
   ]
  },
  {
   "cell_type": "code",
   "execution_count": null,
   "metadata": {},
   "outputs": [],
   "source": []
  },
  {
   "cell_type": "code",
   "execution_count": 12,
   "metadata": {},
   "outputs": [],
   "source": [
    "# We have some conversions to do as some of the columns are dicts, and units are not suitable\n",
    "\n",
    "Temp = []\n",
    "Humidity = []\n",
    "Wind = []\n",
    "Date_Time = []\n",
    "Rain = []\n",
    "Month = []\n",
    "Snow = []\n",
    "Year = []\n",
    "Day = []\n",
    "Day_of_Week = []\n",
    "Weekend = []\n",
    "\n",
    "for i in range(0,len(Wd2)):\n",
    "    #Convert to Fahrenheit\n",
    "    t = round(((Wd2.main[i]['temp_max']-273.15)*9/5)+32,2)\n",
    "    h = Wd2.main[i]['humidity']\n",
    "    #Convert to MPH\n",
    "    w = round(Wd2.wind[i]['speed']*2.26394,2)\n",
    "    d = Wd2['Date_Clean'][i]\n",
    "    r = Wd2.rain[i]\n",
    "    s = Wd2.snow[i]\n",
    "    m = Wd2.month[i]\n",
    "    y = Wd2.year[i]\n",
    "    dy = Wd2.day[i]\n",
    "    dow =Wd2.day_of_week[i]\n",
    "    wknd = Wd2.weekend[i]\n",
    "    Rain.append(r)\n",
    "    Snow.append(s)\n",
    "    Date_Time.append(d)\n",
    "    Wind.append(w)\n",
    "    Humidity.append(h)\n",
    "    Temp.append(t)\n",
    "    Month.append(m)\n",
    "    Year.append(y)\n",
    "    Day.append(dy)\n",
    "    Day_of_Week.append(dow)\n",
    "    Weekend.append(wknd)\n",
    "\n",
    "    \n",
    "# now we have a group of lists \n"
   ]
  },
  {
   "cell_type": "code",
   "execution_count": null,
   "metadata": {},
   "outputs": [],
   "source": []
  },
  {
   "cell_type": "code",
   "execution_count": 13,
   "metadata": {},
   "outputs": [],
   "source": [
    "#Next build dictionary to reassemble our DF\n",
    "Wd_dict = {'City':\"Dayton,OH\",'Datetime':Date_Time,\"Year\":Year,'Month':Month,'Day':Day,'Day_of_Week':Day_of_Week,'Weekend':Weekend,'Temperature(F)':Temp,\n",
    "          'Humidity':Humidity,'Wind Speed(mph)':Wind,'Rain Volume':Rain,'Snow Volume':Snow,}\n",
    "Wd_df = pd.DataFrame(Wd_dict)"
   ]
  },
  {
   "cell_type": "code",
   "execution_count": 14,
   "metadata": {},
   "outputs": [
    {
     "data": {
      "text/html": [
       "<div>\n",
       "<style scoped>\n",
       "    .dataframe tbody tr th:only-of-type {\n",
       "        vertical-align: middle;\n",
       "    }\n",
       "\n",
       "    .dataframe tbody tr th {\n",
       "        vertical-align: top;\n",
       "    }\n",
       "\n",
       "    .dataframe thead th {\n",
       "        text-align: right;\n",
       "    }\n",
       "</style>\n",
       "<table border=\"1\" class=\"dataframe\">\n",
       "  <thead>\n",
       "    <tr style=\"text-align: right;\">\n",
       "      <th></th>\n",
       "      <th>City</th>\n",
       "      <th>Datetime</th>\n",
       "      <th>Year</th>\n",
       "      <th>Month</th>\n",
       "      <th>Day</th>\n",
       "      <th>Day_of_Week</th>\n",
       "      <th>Weekend</th>\n",
       "      <th>Temperature(F)</th>\n",
       "      <th>Humidity</th>\n",
       "      <th>Wind Speed(mph)</th>\n",
       "      <th>Rain Volume</th>\n",
       "      <th>Snow Volume</th>\n",
       "    </tr>\n",
       "  </thead>\n",
       "  <tbody>\n",
       "    <tr>\n",
       "      <th>0</th>\n",
       "      <td>Dayton,OH</td>\n",
       "      <td>2012-10-01 13:00:00</td>\n",
       "      <td>2012</td>\n",
       "      <td>10</td>\n",
       "      <td>1</td>\n",
       "      <td>0</td>\n",
       "      <td>0</td>\n",
       "      <td>54.00</td>\n",
       "      <td>81</td>\n",
       "      <td>4.53</td>\n",
       "      <td>NaN</td>\n",
       "      <td>NaN</td>\n",
       "    </tr>\n",
       "    <tr>\n",
       "      <th>1</th>\n",
       "      <td>Dayton,OH</td>\n",
       "      <td>2012-10-01 14:00:00</td>\n",
       "      <td>2012</td>\n",
       "      <td>10</td>\n",
       "      <td>1</td>\n",
       "      <td>0</td>\n",
       "      <td>0</td>\n",
       "      <td>57.99</td>\n",
       "      <td>76</td>\n",
       "      <td>4.53</td>\n",
       "      <td>NaN</td>\n",
       "      <td>NaN</td>\n",
       "    </tr>\n",
       "    <tr>\n",
       "      <th>2</th>\n",
       "      <td>Dayton,OH</td>\n",
       "      <td>2012-10-02 15:00:00</td>\n",
       "      <td>2012</td>\n",
       "      <td>10</td>\n",
       "      <td>2</td>\n",
       "      <td>1</td>\n",
       "      <td>0</td>\n",
       "      <td>59.00</td>\n",
       "      <td>62</td>\n",
       "      <td>6.79</td>\n",
       "      <td>NaN</td>\n",
       "      <td>NaN</td>\n",
       "    </tr>\n",
       "    <tr>\n",
       "      <th>3</th>\n",
       "      <td>Dayton,OH</td>\n",
       "      <td>2012-10-02 16:00:00</td>\n",
       "      <td>2012</td>\n",
       "      <td>10</td>\n",
       "      <td>2</td>\n",
       "      <td>1</td>\n",
       "      <td>0</td>\n",
       "      <td>62.01</td>\n",
       "      <td>77</td>\n",
       "      <td>6.79</td>\n",
       "      <td>NaN</td>\n",
       "      <td>NaN</td>\n",
       "    </tr>\n",
       "    <tr>\n",
       "      <th>4</th>\n",
       "      <td>Dayton,OH</td>\n",
       "      <td>2012-10-02 17:00:00</td>\n",
       "      <td>2012</td>\n",
       "      <td>10</td>\n",
       "      <td>2</td>\n",
       "      <td>1</td>\n",
       "      <td>0</td>\n",
       "      <td>63.00</td>\n",
       "      <td>72</td>\n",
       "      <td>9.06</td>\n",
       "      <td>NaN</td>\n",
       "      <td>NaN</td>\n",
       "    </tr>\n",
       "  </tbody>\n",
       "</table>\n",
       "</div>"
      ],
      "text/plain": [
       "        City            Datetime  Year  Month  Day  Day_of_Week  Weekend  \\\n",
       "0  Dayton,OH 2012-10-01 13:00:00  2012     10    1            0        0   \n",
       "1  Dayton,OH 2012-10-01 14:00:00  2012     10    1            0        0   \n",
       "2  Dayton,OH 2012-10-02 15:00:00  2012     10    2            1        0   \n",
       "3  Dayton,OH 2012-10-02 16:00:00  2012     10    2            1        0   \n",
       "4  Dayton,OH 2012-10-02 17:00:00  2012     10    2            1        0   \n",
       "\n",
       "   Temperature(F)  Humidity  Wind Speed(mph) Rain Volume Snow Volume  \n",
       "0           54.00        81             4.53         NaN         NaN  \n",
       "1           57.99        76             4.53         NaN         NaN  \n",
       "2           59.00        62             6.79         NaN         NaN  \n",
       "3           62.01        77             6.79         NaN         NaN  \n",
       "4           63.00        72             9.06         NaN         NaN  "
      ]
     },
     "execution_count": 14,
     "metadata": {},
     "output_type": "execute_result"
    }
   ],
   "source": [
    "Wd_df.head()\n"
   ]
  },
  {
   "cell_type": "code",
   "execution_count": 15,
   "metadata": {},
   "outputs": [
    {
     "name": "stdout",
     "output_type": "stream",
     "text": [
      "<class 'pandas.core.frame.DataFrame'>\n",
      "RangeIndex: 42169 entries, 0 to 42168\n",
      "Data columns (total 12 columns):\n",
      "City               42169 non-null object\n",
      "Datetime           42169 non-null datetime64[ns]\n",
      "Year               42169 non-null int64\n",
      "Month              42169 non-null int64\n",
      "Day                42169 non-null int64\n",
      "Day_of_Week        42169 non-null int64\n",
      "Weekend            42169 non-null int64\n",
      "Temperature(F)     42169 non-null float64\n",
      "Humidity           42169 non-null int64\n",
      "Wind Speed(mph)    42169 non-null float64\n",
      "Rain Volume        6327 non-null object\n",
      "Snow Volume        46 non-null object\n",
      "dtypes: datetime64[ns](1), float64(2), int64(6), object(3)\n",
      "memory usage: 3.9+ MB\n"
     ]
    }
   ],
   "source": [
    "## calling info we confirm we have a datetime object for Datetime\n",
    "Wd_df.info()"
   ]
  },
  {
   "cell_type": "code",
   "execution_count": 16,
   "metadata": {
    "scrolled": true
   },
   "outputs": [],
   "source": [
    "## ok now ready we agreed to use more recent data for our dataset \n",
    "# so will grab data from May1 of 2016 thru April 30 2018.\n",
    "df.Datetime.head(24)\n",
    "\n",
    "df_2 = df[(df.Datetime>='2016-05-01 00:00:00') & (df.Datetime< '2018-05-01 00:00:00')].copy()\n",
    "df_2.set_index('Datetime',inplace = True)\n",
    "\n",
    "\n"
   ]
  },
  {
   "cell_type": "code",
   "execution_count": 17,
   "metadata": {},
   "outputs": [
    {
     "data": {
      "text/html": [
       "<div>\n",
       "<style scoped>\n",
       "    .dataframe tbody tr th:only-of-type {\n",
       "        vertical-align: middle;\n",
       "    }\n",
       "\n",
       "    .dataframe tbody tr th {\n",
       "        vertical-align: top;\n",
       "    }\n",
       "\n",
       "    .dataframe thead th {\n",
       "        text-align: right;\n",
       "    }\n",
       "</style>\n",
       "<table border=\"1\" class=\"dataframe\">\n",
       "  <thead>\n",
       "    <tr style=\"text-align: right;\">\n",
       "      <th></th>\n",
       "      <th>DAYTON_MW</th>\n",
       "    </tr>\n",
       "    <tr>\n",
       "      <th>Datetime</th>\n",
       "      <th></th>\n",
       "    </tr>\n",
       "  </thead>\n",
       "  <tbody>\n",
       "    <tr>\n",
       "      <th>2018-03-31 01:00:00</th>\n",
       "      <td>1580</td>\n",
       "    </tr>\n",
       "    <tr>\n",
       "      <th>2018-03-31 02:00:00</th>\n",
       "      <td>1560</td>\n",
       "    </tr>\n",
       "    <tr>\n",
       "      <th>2018-03-31 03:00:00</th>\n",
       "      <td>1548</td>\n",
       "    </tr>\n",
       "    <tr>\n",
       "      <th>2018-03-31 04:00:00</th>\n",
       "      <td>1554</td>\n",
       "    </tr>\n",
       "    <tr>\n",
       "      <th>2018-03-31 05:00:00</th>\n",
       "      <td>1565</td>\n",
       "    </tr>\n",
       "  </tbody>\n",
       "</table>\n",
       "</div>"
      ],
      "text/plain": [
       "                     DAYTON_MW\n",
       "Datetime                      \n",
       "2018-03-31 01:00:00       1580\n",
       "2018-03-31 02:00:00       1560\n",
       "2018-03-31 03:00:00       1548\n",
       "2018-03-31 04:00:00       1554\n",
       "2018-03-31 05:00:00       1565"
      ]
     },
     "execution_count": 17,
     "metadata": {},
     "output_type": "execute_result"
    }
   ],
   "source": [
    "df.Datetime.head(2)\n",
    "#Daylight savings\n",
    "\n",
    "df_3 = df[(df.Datetime>='2018-03-01 00:00:00') & (df.Datetime< '2018-03-31 23:00:00')].copy()\n",
    "df_3.set_index('Datetime',inplace = True)\n",
    "df_3.head()\n"
   ]
  },
  {
   "cell_type": "code",
   "execution_count": 18,
   "metadata": {},
   "outputs": [],
   "source": [
    "daily_average = df_2.resample('D').mean()"
   ]
  },
  {
   "cell_type": "code",
   "execution_count": 19,
   "metadata": {},
   "outputs": [
    {
     "data": {
      "text/html": [
       "<div>\n",
       "<style scoped>\n",
       "    .dataframe tbody tr th:only-of-type {\n",
       "        vertical-align: middle;\n",
       "    }\n",
       "\n",
       "    .dataframe tbody tr th {\n",
       "        vertical-align: top;\n",
       "    }\n",
       "\n",
       "    .dataframe thead th {\n",
       "        text-align: right;\n",
       "    }\n",
       "</style>\n",
       "<table border=\"1\" class=\"dataframe\">\n",
       "  <thead>\n",
       "    <tr style=\"text-align: right;\">\n",
       "      <th></th>\n",
       "      <th>Datetime</th>\n",
       "      <th>DAYTON_MW</th>\n",
       "    </tr>\n",
       "  </thead>\n",
       "  <tbody>\n",
       "    <tr>\n",
       "      <th>0</th>\n",
       "      <td>2018-03-31 01:00:00</td>\n",
       "      <td>1580</td>\n",
       "    </tr>\n",
       "    <tr>\n",
       "      <th>1</th>\n",
       "      <td>2018-03-31 02:00:00</td>\n",
       "      <td>1560</td>\n",
       "    </tr>\n",
       "    <tr>\n",
       "      <th>2</th>\n",
       "      <td>2018-03-31 03:00:00</td>\n",
       "      <td>1548</td>\n",
       "    </tr>\n",
       "    <tr>\n",
       "      <th>3</th>\n",
       "      <td>2018-03-31 04:00:00</td>\n",
       "      <td>1554</td>\n",
       "    </tr>\n",
       "    <tr>\n",
       "      <th>4</th>\n",
       "      <td>2018-03-31 05:00:00</td>\n",
       "      <td>1565</td>\n",
       "    </tr>\n",
       "  </tbody>\n",
       "</table>\n",
       "</div>"
      ],
      "text/plain": [
       "             Datetime  DAYTON_MW\n",
       "0 2018-03-31 01:00:00       1580\n",
       "1 2018-03-31 02:00:00       1560\n",
       "2 2018-03-31 03:00:00       1548\n",
       "3 2018-03-31 04:00:00       1554\n",
       "4 2018-03-31 05:00:00       1565"
      ]
     },
     "execution_count": 19,
     "metadata": {},
     "output_type": "execute_result"
    }
   ],
   "source": [
    "\n",
    "df_3= df_3.reset_index()\n",
    "df_3.head()\n"
   ]
  },
  {
   "cell_type": "code",
   "execution_count": 20,
   "metadata": {},
   "outputs": [
    {
     "data": {
      "text/plain": [
       "[<matplotlib.lines.Line2D at 0x1a2638c4e0>]"
      ]
     },
     "execution_count": 20,
     "metadata": {},
     "output_type": "execute_result"
    },
    {
     "data": {
      "image/png": "[encoded data removed]",
      "text/plain": [
       "<Figure size 432x288 with 1 Axes>"
      ]
     },
     "metadata": {
      "needs_background": "light"
     },
     "output_type": "display_data"
    }
   ],
   "source": [
    "\n",
    "plt.plot(daily_average)\n",
    "\n"
   ]
  },
  {
   "cell_type": "code",
   "execution_count": 21,
   "metadata": {},
   "outputs": [],
   "source": [
    "monthly_average = df_2.resample('M').mean()"
   ]
  },
  {
   "cell_type": "code",
   "execution_count": 22,
   "metadata": {},
   "outputs": [
    {
     "data": {
      "text/html": [
       "<div>\n",
       "<style scoped>\n",
       "    .dataframe tbody tr th:only-of-type {\n",
       "        vertical-align: middle;\n",
       "    }\n",
       "\n",
       "    .dataframe tbody tr th {\n",
       "        vertical-align: top;\n",
       "    }\n",
       "\n",
       "    .dataframe thead th {\n",
       "        text-align: right;\n",
       "    }\n",
       "</style>\n",
       "<table border=\"1\" class=\"dataframe\">\n",
       "  <thead>\n",
       "    <tr style=\"text-align: right;\">\n",
       "      <th></th>\n",
       "      <th>DAYTON_MW</th>\n",
       "    </tr>\n",
       "    <tr>\n",
       "      <th>Datetime</th>\n",
       "      <th></th>\n",
       "    </tr>\n",
       "  </thead>\n",
       "  <tbody>\n",
       "    <tr>\n",
       "      <th>2016-05-31</th>\n",
       "      <td>1788.401882</td>\n",
       "    </tr>\n",
       "    <tr>\n",
       "      <th>2016-06-30</th>\n",
       "      <td>2150.641667</td>\n",
       "    </tr>\n",
       "    <tr>\n",
       "      <th>2016-07-31</th>\n",
       "      <td>2269.213710</td>\n",
       "    </tr>\n",
       "    <tr>\n",
       "      <th>2016-08-31</th>\n",
       "      <td>2401.627688</td>\n",
       "    </tr>\n",
       "    <tr>\n",
       "      <th>2016-09-30</th>\n",
       "      <td>2082.198611</td>\n",
       "    </tr>\n",
       "    <tr>\n",
       "      <th>2016-10-31</th>\n",
       "      <td>1788.114247</td>\n",
       "    </tr>\n",
       "    <tr>\n",
       "      <th>2016-11-30</th>\n",
       "      <td>1838.656033</td>\n",
       "    </tr>\n",
       "    <tr>\n",
       "      <th>2016-12-31</th>\n",
       "      <td>2130.098118</td>\n",
       "    </tr>\n",
       "    <tr>\n",
       "      <th>2017-01-31</th>\n",
       "      <td>2089.561828</td>\n",
       "    </tr>\n",
       "    <tr>\n",
       "      <th>2017-02-28</th>\n",
       "      <td>1965.349702</td>\n",
       "    </tr>\n",
       "    <tr>\n",
       "      <th>2017-03-31</th>\n",
       "      <td>1945.067295</td>\n",
       "    </tr>\n",
       "    <tr>\n",
       "      <th>2017-04-30</th>\n",
       "      <td>1730.320833</td>\n",
       "    </tr>\n",
       "    <tr>\n",
       "      <th>2017-05-31</th>\n",
       "      <td>1810.896505</td>\n",
       "    </tr>\n",
       "    <tr>\n",
       "      <th>2017-06-30</th>\n",
       "      <td>2074.426389</td>\n",
       "    </tr>\n",
       "    <tr>\n",
       "      <th>2017-07-31</th>\n",
       "      <td>2168.663978</td>\n",
       "    </tr>\n",
       "    <tr>\n",
       "      <th>2017-08-31</th>\n",
       "      <td>2120.166667</td>\n",
       "    </tr>\n",
       "    <tr>\n",
       "      <th>2017-09-30</th>\n",
       "      <td>1905.451389</td>\n",
       "    </tr>\n",
       "    <tr>\n",
       "      <th>2017-10-31</th>\n",
       "      <td>1800.594086</td>\n",
       "    </tr>\n",
       "    <tr>\n",
       "      <th>2017-11-30</th>\n",
       "      <td>1929.210818</td>\n",
       "    </tr>\n",
       "    <tr>\n",
       "      <th>2017-12-31</th>\n",
       "      <td>2144.048387</td>\n",
       "    </tr>\n",
       "    <tr>\n",
       "      <th>2018-01-31</th>\n",
       "      <td>2302.619624</td>\n",
       "    </tr>\n",
       "    <tr>\n",
       "      <th>2018-02-28</th>\n",
       "      <td>2072.008929</td>\n",
       "    </tr>\n",
       "    <tr>\n",
       "      <th>2018-03-31</th>\n",
       "      <td>1989.028264</td>\n",
       "    </tr>\n",
       "    <tr>\n",
       "      <th>2018-04-30</th>\n",
       "      <td>1843.079167</td>\n",
       "    </tr>\n",
       "  </tbody>\n",
       "</table>\n",
       "</div>"
      ],
      "text/plain": [
       "              DAYTON_MW\n",
       "Datetime               \n",
       "2016-05-31  1788.401882\n",
       "2016-06-30  2150.641667\n",
       "2016-07-31  2269.213710\n",
       "2016-08-31  2401.627688\n",
       "2016-09-30  2082.198611\n",
       "2016-10-31  1788.114247\n",
       "2016-11-30  1838.656033\n",
       "2016-12-31  2130.098118\n",
       "2017-01-31  2089.561828\n",
       "2017-02-28  1965.349702\n",
       "2017-03-31  1945.067295\n",
       "2017-04-30  1730.320833\n",
       "2017-05-31  1810.896505\n",
       "2017-06-30  2074.426389\n",
       "2017-07-31  2168.663978\n",
       "2017-08-31  2120.166667\n",
       "2017-09-30  1905.451389\n",
       "2017-10-31  1800.594086\n",
       "2017-11-30  1929.210818\n",
       "2017-12-31  2144.048387\n",
       "2018-01-31  2302.619624\n",
       "2018-02-28  2072.008929\n",
       "2018-03-31  1989.028264\n",
       "2018-04-30  1843.079167"
      ]
     },
     "execution_count": 22,
     "metadata": {},
     "output_type": "execute_result"
    }
   ],
   "source": [
    "monthly_average"
   ]
  },
  {
   "cell_type": "code",
   "execution_count": 23,
   "metadata": {},
   "outputs": [],
   "source": [
    "monthly_average['month_abr'] = monthly_average.index.strftime(\"%m%y\")\n",
    "#year_2016 = monthly_average.loc[:'2016-05-01' 2016-,:]"
   ]
  },
  {
   "cell_type": "code",
   "execution_count": 24,
   "metadata": {},
   "outputs": [
    {
     "data": {
      "text/html": [
       "<div>\n",
       "<style scoped>\n",
       "    .dataframe tbody tr th:only-of-type {\n",
       "        vertical-align: middle;\n",
       "    }\n",
       "\n",
       "    .dataframe tbody tr th {\n",
       "        vertical-align: top;\n",
       "    }\n",
       "\n",
       "    .dataframe thead th {\n",
       "        text-align: right;\n",
       "    }\n",
       "</style>\n",
       "<table border=\"1\" class=\"dataframe\">\n",
       "  <thead>\n",
       "    <tr style=\"text-align: right;\">\n",
       "      <th></th>\n",
       "      <th>DAYTON_MW</th>\n",
       "      <th>month_abr</th>\n",
       "    </tr>\n",
       "    <tr>\n",
       "      <th>Datetime</th>\n",
       "      <th></th>\n",
       "      <th></th>\n",
       "    </tr>\n",
       "  </thead>\n",
       "  <tbody>\n",
       "    <tr>\n",
       "      <th>2016-05-31</th>\n",
       "      <td>1788.401882</td>\n",
       "      <td>0516</td>\n",
       "    </tr>\n",
       "    <tr>\n",
       "      <th>2016-06-30</th>\n",
       "      <td>2150.641667</td>\n",
       "      <td>0616</td>\n",
       "    </tr>\n",
       "    <tr>\n",
       "      <th>2016-07-31</th>\n",
       "      <td>2269.213710</td>\n",
       "      <td>0716</td>\n",
       "    </tr>\n",
       "    <tr>\n",
       "      <th>2016-08-31</th>\n",
       "      <td>2401.627688</td>\n",
       "      <td>0816</td>\n",
       "    </tr>\n",
       "    <tr>\n",
       "      <th>2016-09-30</th>\n",
       "      <td>2082.198611</td>\n",
       "      <td>0916</td>\n",
       "    </tr>\n",
       "  </tbody>\n",
       "</table>\n",
       "</div>"
      ],
      "text/plain": [
       "              DAYTON_MW month_abr\n",
       "Datetime                         \n",
       "2016-05-31  1788.401882      0516\n",
       "2016-06-30  2150.641667      0616\n",
       "2016-07-31  2269.213710      0716\n",
       "2016-08-31  2401.627688      0816\n",
       "2016-09-30  2082.198611      0916"
      ]
     },
     "execution_count": 24,
     "metadata": {},
     "output_type": "execute_result"
    }
   ],
   "source": [
    "type(monthly_average.iloc[0,1])\n",
    "monthly_average.head()"
   ]
  },
  {
   "cell_type": "code",
   "execution_count": 25,
   "metadata": {},
   "outputs": [],
   "source": [
    "?plt.legend()"
   ]
  },
  {
   "cell_type": "code",
   "execution_count": 39,
   "metadata": {},
   "outputs": [
    {
     "data": {
      "image/png": "[encoded data removed]",
      "text/plain": [
       "<Figure size 1440x720 with 1 Axes>"
      ]
     },
     "metadata": {
      "needs_background": "light"
     },
     "output_type": "display_data"
    }
   ],
   "source": [
    "plt.figure(figsize=[20,10])\n",
    "\n",
    "plt.plot(monthly_average['month_abr'], monthly_average['DAYTON_MW'])\n",
    "#vertical line\n",
    "#plt.axvline(dt.datetime(2017,3,12))\n",
    "\n",
    "plt.xticks(rotation=90)\n",
    "\n",
    "plt.axvline(x='0317', color='g', linestyle= '--')\n",
    "plt.axvline(x='0318',color='g', linestyle= '--')\n",
    "plt.text('0217',2300, 'Daylight Saving Time 2017', ha='center', va='center', rotation='vertical',color='green')\n",
    "plt.text('0218',2300, 'Daylight Saving Time 2018', ha='center', va='center', rotation='vertical',color='green')\n",
    "\n",
    "plt.axvline(x='1117', color='purple', linestyle= '--')\n",
    "plt.axvline(x='1116',color='purple', linestyle= '--')\n",
    "plt.text('1016',2300, 'Standard Time 2016', ha='center', va='center', rotation='vertical',color='purple')\n",
    "plt.text('1017',2300, 'Standard Time 2017', ha='center', va='center', rotation='vertical',color='purple')\n",
    "\n",
    "plt.ylabel(\"Average Energy Used\")\n",
    "plt.xlabel(\"Month Of Year\")\n",
    "plt.title(\"Daylight Savings Identified Through The Year\")\n",
    "#plt.legend(loc=\"best\")\n",
    "plt.show()\n",
    "#label legend here\n",
    "#write legend to define green line\n",
    "\n"
   ]
  },
  {
   "cell_type": "code",
   "execution_count": 27,
   "metadata": {},
   "outputs": [
    {
     "data": {
      "text/html": [
       "<div>\n",
       "<style scoped>\n",
       "    .dataframe tbody tr th:only-of-type {\n",
       "        vertical-align: middle;\n",
       "    }\n",
       "\n",
       "    .dataframe tbody tr th {\n",
       "        vertical-align: top;\n",
       "    }\n",
       "\n",
       "    .dataframe thead th {\n",
       "        text-align: right;\n",
       "    }\n",
       "</style>\n",
       "<table border=\"1\" class=\"dataframe\">\n",
       "  <thead>\n",
       "    <tr style=\"text-align: right;\">\n",
       "      <th></th>\n",
       "      <th>City</th>\n",
       "      <th>Datetime</th>\n",
       "      <th>Year</th>\n",
       "      <th>Month</th>\n",
       "      <th>Day</th>\n",
       "      <th>Day_of_Week</th>\n",
       "      <th>Weekend</th>\n",
       "      <th>Temperature(F)</th>\n",
       "      <th>Humidity</th>\n",
       "      <th>Wind Speed(mph)</th>\n",
       "      <th>Rain Volume</th>\n",
       "      <th>Snow Volume</th>\n",
       "    </tr>\n",
       "  </thead>\n",
       "  <tbody>\n",
       "    <tr>\n",
       "      <th>0</th>\n",
       "      <td>Dayton,OH</td>\n",
       "      <td>2012-10-01 13:00:00</td>\n",
       "      <td>2012</td>\n",
       "      <td>10</td>\n",
       "      <td>1</td>\n",
       "      <td>0</td>\n",
       "      <td>0</td>\n",
       "      <td>54.00</td>\n",
       "      <td>81</td>\n",
       "      <td>4.53</td>\n",
       "      <td>NaN</td>\n",
       "      <td>NaN</td>\n",
       "    </tr>\n",
       "    <tr>\n",
       "      <th>1</th>\n",
       "      <td>Dayton,OH</td>\n",
       "      <td>2012-10-01 14:00:00</td>\n",
       "      <td>2012</td>\n",
       "      <td>10</td>\n",
       "      <td>1</td>\n",
       "      <td>0</td>\n",
       "      <td>0</td>\n",
       "      <td>57.99</td>\n",
       "      <td>76</td>\n",
       "      <td>4.53</td>\n",
       "      <td>NaN</td>\n",
       "      <td>NaN</td>\n",
       "    </tr>\n",
       "    <tr>\n",
       "      <th>2</th>\n",
       "      <td>Dayton,OH</td>\n",
       "      <td>2012-10-02 15:00:00</td>\n",
       "      <td>2012</td>\n",
       "      <td>10</td>\n",
       "      <td>2</td>\n",
       "      <td>1</td>\n",
       "      <td>0</td>\n",
       "      <td>59.00</td>\n",
       "      <td>62</td>\n",
       "      <td>6.79</td>\n",
       "      <td>NaN</td>\n",
       "      <td>NaN</td>\n",
       "    </tr>\n",
       "    <tr>\n",
       "      <th>3</th>\n",
       "      <td>Dayton,OH</td>\n",
       "      <td>2012-10-02 16:00:00</td>\n",
       "      <td>2012</td>\n",
       "      <td>10</td>\n",
       "      <td>2</td>\n",
       "      <td>1</td>\n",
       "      <td>0</td>\n",
       "      <td>62.01</td>\n",
       "      <td>77</td>\n",
       "      <td>6.79</td>\n",
       "      <td>NaN</td>\n",
       "      <td>NaN</td>\n",
       "    </tr>\n",
       "    <tr>\n",
       "      <th>4</th>\n",
       "      <td>Dayton,OH</td>\n",
       "      <td>2012-10-02 17:00:00</td>\n",
       "      <td>2012</td>\n",
       "      <td>10</td>\n",
       "      <td>2</td>\n",
       "      <td>1</td>\n",
       "      <td>0</td>\n",
       "      <td>63.00</td>\n",
       "      <td>72</td>\n",
       "      <td>9.06</td>\n",
       "      <td>NaN</td>\n",
       "      <td>NaN</td>\n",
       "    </tr>\n",
       "  </tbody>\n",
       "</table>\n",
       "</div>"
      ],
      "text/plain": [
       "        City            Datetime  Year  Month  Day  Day_of_Week  Weekend  \\\n",
       "0  Dayton,OH 2012-10-01 13:00:00  2012     10    1            0        0   \n",
       "1  Dayton,OH 2012-10-01 14:00:00  2012     10    1            0        0   \n",
       "2  Dayton,OH 2012-10-02 15:00:00  2012     10    2            1        0   \n",
       "3  Dayton,OH 2012-10-02 16:00:00  2012     10    2            1        0   \n",
       "4  Dayton,OH 2012-10-02 17:00:00  2012     10    2            1        0   \n",
       "\n",
       "   Temperature(F)  Humidity  Wind Speed(mph) Rain Volume Snow Volume  \n",
       "0           54.00        81             4.53         NaN         NaN  \n",
       "1           57.99        76             4.53         NaN         NaN  \n",
       "2           59.00        62             6.79         NaN         NaN  \n",
       "3           62.01        77             6.79         NaN         NaN  \n",
       "4           63.00        72             9.06         NaN         NaN  "
      ]
     },
     "execution_count": 27,
     "metadata": {},
     "output_type": "execute_result"
    }
   ],
   "source": []
  },
  {
   "cell_type": "code",
   "execution_count": 28,
   "metadata": {},
   "outputs": [
    {
     "data": {
      "text/html": [
       "<div>\n",
       "<style scoped>\n",
       "    .dataframe tbody tr th:only-of-type {\n",
       "        vertical-align: middle;\n",
       "    }\n",
       "\n",
       "    .dataframe tbody tr th {\n",
       "        vertical-align: top;\n",
       "    }\n",
       "\n",
       "    .dataframe thead th {\n",
       "        text-align: right;\n",
       "    }\n",
       "</style>\n",
       "<table border=\"1\" class=\"dataframe\">\n",
       "  <thead>\n",
       "    <tr style=\"text-align: right;\">\n",
       "      <th></th>\n",
       "      <th>DAYTON_MW</th>\n",
       "    </tr>\n",
       "    <tr>\n",
       "      <th>Datetime</th>\n",
       "      <th></th>\n",
       "    </tr>\n",
       "  </thead>\n",
       "  <tbody>\n",
       "    <tr>\n",
       "      <th>2016-05-01</th>\n",
       "      <td>1532.250000</td>\n",
       "    </tr>\n",
       "    <tr>\n",
       "      <th>2016-05-02</th>\n",
       "      <td>1782.791667</td>\n",
       "    </tr>\n",
       "    <tr>\n",
       "      <th>2016-05-03</th>\n",
       "      <td>1791.916667</td>\n",
       "    </tr>\n",
       "    <tr>\n",
       "      <th>2016-05-04</th>\n",
       "      <td>1820.375000</td>\n",
       "    </tr>\n",
       "    <tr>\n",
       "      <th>2016-05-05</th>\n",
       "      <td>1855.875000</td>\n",
       "    </tr>\n",
       "  </tbody>\n",
       "</table>\n",
       "</div>"
      ],
      "text/plain": [
       "              DAYTON_MW\n",
       "Datetime               \n",
       "2016-05-01  1532.250000\n",
       "2016-05-02  1782.791667\n",
       "2016-05-03  1791.916667\n",
       "2016-05-04  1820.375000\n",
       "2016-05-05  1855.875000"
      ]
     },
     "execution_count": 28,
     "metadata": {},
     "output_type": "execute_result"
    }
   ],
   "source": [
    "D_sample = df_2.resample('D').mean()\n",
    "D_sample.head()"
   ]
  },
  {
   "cell_type": "code",
   "execution_count": 29,
   "metadata": {},
   "outputs": [],
   "source": [
    "D_sample = D_sample.reset_index()\n",
    "D_sample = D_sample[(D_sample.Datetime>='2017-03-01') & (D_sample.Datetime< '2017-03-31')]"
   ]
  },
  {
   "cell_type": "code",
   "execution_count": 30,
   "metadata": {},
   "outputs": [
    {
     "data": {
      "text/plain": [
       "<Figure size 1440x720 with 0 Axes>"
      ]
     },
     "metadata": {},
     "output_type": "display_data"
    },
    {
     "data": {
      "image/png": "[encoded data removed]",
      "text/plain": [
       "<Figure size 432x288 with 1 Axes>"
      ]
     },
     "metadata": {
      "needs_background": "light"
     },
     "output_type": "display_data"
    }
   ],
   "source": [
    "plt.figure(figsize=[20,10])\n",
    "D_sample.plot(x='Datetime', y='DAYTON_MW')\n",
    "\n",
    "plt.axvline(x='2017-03-12',color='g', linestyle= '--')\n",
    "plt.show();"
   ]
  },
  {
   "cell_type": "code",
   "execution_count": 31,
   "metadata": {},
   "outputs": [
    {
     "data": {
      "text/plain": [
       "17520"
      ]
     },
     "execution_count": 31,
     "metadata": {},
     "output_type": "execute_result"
    }
   ],
   "source": [
    "## lets take a look at the len\n",
    "len(df_2)\n"
   ]
  },
  {
   "cell_type": "code",
   "execution_count": 32,
   "metadata": {},
   "outputs": [
    {
     "data": {
      "text/html": [
       "<div>\n",
       "<style scoped>\n",
       "    .dataframe tbody tr th:only-of-type {\n",
       "        vertical-align: middle;\n",
       "    }\n",
       "\n",
       "    .dataframe tbody tr th {\n",
       "        vertical-align: top;\n",
       "    }\n",
       "\n",
       "    .dataframe thead th {\n",
       "        text-align: right;\n",
       "    }\n",
       "</style>\n",
       "<table border=\"1\" class=\"dataframe\">\n",
       "  <thead>\n",
       "    <tr style=\"text-align: right;\">\n",
       "      <th></th>\n",
       "      <th>City</th>\n",
       "      <th>Year</th>\n",
       "      <th>Month</th>\n",
       "      <th>Day</th>\n",
       "      <th>Day_of_Week</th>\n",
       "      <th>Weekend</th>\n",
       "      <th>Temperature(F)</th>\n",
       "      <th>Humidity</th>\n",
       "      <th>Wind Speed(mph)</th>\n",
       "      <th>Rain Volume</th>\n",
       "      <th>Snow Volume</th>\n",
       "    </tr>\n",
       "    <tr>\n",
       "      <th>Datetime</th>\n",
       "      <th></th>\n",
       "      <th></th>\n",
       "      <th></th>\n",
       "      <th></th>\n",
       "      <th></th>\n",
       "      <th></th>\n",
       "      <th></th>\n",
       "      <th></th>\n",
       "      <th></th>\n",
       "      <th></th>\n",
       "      <th></th>\n",
       "    </tr>\n",
       "  </thead>\n",
       "  <tbody>\n",
       "    <tr>\n",
       "      <th>2016-05-01 00:00:00</th>\n",
       "      <td>Dayton,OH</td>\n",
       "      <td>2016</td>\n",
       "      <td>5</td>\n",
       "      <td>1</td>\n",
       "      <td>6</td>\n",
       "      <td>1</td>\n",
       "      <td>59.0</td>\n",
       "      <td>100</td>\n",
       "      <td>4.53</td>\n",
       "      <td>{'1h': 1.1}</td>\n",
       "      <td>NaN</td>\n",
       "    </tr>\n",
       "    <tr>\n",
       "      <th>2016-05-01 01:00:00</th>\n",
       "      <td>Dayton,OH</td>\n",
       "      <td>2016</td>\n",
       "      <td>5</td>\n",
       "      <td>1</td>\n",
       "      <td>6</td>\n",
       "      <td>1</td>\n",
       "      <td>59.0</td>\n",
       "      <td>100</td>\n",
       "      <td>9.06</td>\n",
       "      <td>{'1h': 0.76}</td>\n",
       "      <td>NaN</td>\n",
       "    </tr>\n",
       "    <tr>\n",
       "      <th>2016-05-01 02:00:00</th>\n",
       "      <td>Dayton,OH</td>\n",
       "      <td>2016</td>\n",
       "      <td>5</td>\n",
       "      <td>1</td>\n",
       "      <td>6</td>\n",
       "      <td>1</td>\n",
       "      <td>59.0</td>\n",
       "      <td>87</td>\n",
       "      <td>9.06</td>\n",
       "      <td>{'1h': 0.51}</td>\n",
       "      <td>NaN</td>\n",
       "    </tr>\n",
       "    <tr>\n",
       "      <th>2016-05-01 03:00:00</th>\n",
       "      <td>Dayton,OH</td>\n",
       "      <td>2016</td>\n",
       "      <td>5</td>\n",
       "      <td>1</td>\n",
       "      <td>6</td>\n",
       "      <td>1</td>\n",
       "      <td>59.0</td>\n",
       "      <td>93</td>\n",
       "      <td>9.06</td>\n",
       "      <td>{'1h': 0.25}</td>\n",
       "      <td>NaN</td>\n",
       "    </tr>\n",
       "    <tr>\n",
       "      <th>2016-05-01 04:00:00</th>\n",
       "      <td>Dayton,OH</td>\n",
       "      <td>2016</td>\n",
       "      <td>5</td>\n",
       "      <td>1</td>\n",
       "      <td>6</td>\n",
       "      <td>1</td>\n",
       "      <td>60.8</td>\n",
       "      <td>100</td>\n",
       "      <td>4.53</td>\n",
       "      <td>{'1h': 0.25}</td>\n",
       "      <td>NaN</td>\n",
       "    </tr>\n",
       "  </tbody>\n",
       "</table>\n",
       "</div>"
      ],
      "text/plain": [
       "                          City  Year  Month  Day  Day_of_Week  Weekend  \\\n",
       "Datetime                                                                 \n",
       "2016-05-01 00:00:00  Dayton,OH  2016      5    1            6        1   \n",
       "2016-05-01 01:00:00  Dayton,OH  2016      5    1            6        1   \n",
       "2016-05-01 02:00:00  Dayton,OH  2016      5    1            6        1   \n",
       "2016-05-01 03:00:00  Dayton,OH  2016      5    1            6        1   \n",
       "2016-05-01 04:00:00  Dayton,OH  2016      5    1            6        1   \n",
       "\n",
       "                     Temperature(F)  Humidity  Wind Speed(mph)   Rain Volume  \\\n",
       "Datetime                                                                       \n",
       "2016-05-01 00:00:00            59.0       100             4.53   {'1h': 1.1}   \n",
       "2016-05-01 01:00:00            59.0       100             9.06  {'1h': 0.76}   \n",
       "2016-05-01 02:00:00            59.0        87             9.06  {'1h': 0.51}   \n",
       "2016-05-01 03:00:00            59.0        93             9.06  {'1h': 0.25}   \n",
       "2016-05-01 04:00:00            60.8       100             4.53  {'1h': 0.25}   \n",
       "\n",
       "                    Snow Volume  \n",
       "Datetime                         \n",
       "2016-05-01 00:00:00         NaN  \n",
       "2016-05-01 01:00:00         NaN  \n",
       "2016-05-01 02:00:00         NaN  \n",
       "2016-05-01 03:00:00         NaN  \n",
       "2016-05-01 04:00:00         NaN  "
      ]
     },
     "execution_count": 32,
     "metadata": {},
     "output_type": "execute_result"
    }
   ],
   "source": [
    "## so the Weather Df we create should be of the same length\n",
    "\n",
    "Wd_df_2 = Wd_df[(Wd_df.Datetime>='2016-05-01 00:00:00') & (Wd_df.Datetime< '2018-05-01 00:00:00')].copy()\n",
    "Wd_df_2.set_index('Datetime',inplace = True)\n",
    "Wd_df_2.head()"
   ]
  },
  {
   "cell_type": "code",
   "execution_count": null,
   "metadata": {},
   "outputs": [],
   "source": []
  },
  {
   "cell_type": "code",
   "execution_count": 33,
   "metadata": {},
   "outputs": [],
   "source": [
    "### so it seems we have some missing values in the weather data this will mean some times 76 hours where we will not get a \n",
    "## match on the join.\n",
    "\n",
    "combined_df = df_2.join(Wd_df_2,how = 'left')\n",
    "combined_df.drop(index = combined_df[combined_df.City.isna()].index.values,inplace = True)\n"
   ]
  },
  {
   "cell_type": "code",
   "execution_count": 34,
   "metadata": {},
   "outputs": [
    {
     "name": "stdout",
     "output_type": "stream",
     "text": [
      "<class 'pandas.core.frame.DataFrame'>\n",
      "DatetimeIndex: 17444 entries, 2016-05-01 00:00:00 to 2018-04-30 23:00:00\n",
      "Data columns (total 12 columns):\n",
      "DAYTON_MW          17444 non-null int64\n",
      "City               17444 non-null object\n",
      "Year               17444 non-null float64\n",
      "Month              17444 non-null float64\n",
      "Day                17444 non-null float64\n",
      "Day_of_Week        17444 non-null float64\n",
      "Weekend            17444 non-null float64\n",
      "Temperature(F)     17444 non-null float64\n",
      "Humidity           17444 non-null float64\n",
      "Wind Speed(mph)    17444 non-null float64\n",
      "Rain Volume        1102 non-null object\n",
      "Snow Volume        0 non-null object\n",
      "dtypes: float64(8), int64(1), object(3)\n",
      "memory usage: 1.7+ MB\n"
     ]
    }
   ],
   "source": [
    "combined_df.info()"
   ]
  },
  {
   "cell_type": "code",
   "execution_count": 35,
   "metadata": {},
   "outputs": [
    {
     "ename": "IndentationError",
     "evalue": "unexpected indent (<ipython-input-35-a6676e31e0d8>, line 7)",
     "output_type": "error",
     "traceback": [
      "\u001b[0;36m  File \u001b[0;32m\"<ipython-input-35-a6676e31e0d8>\"\u001b[0;36m, line \u001b[0;32m7\u001b[0m\n\u001b[0;31m    = np.cov(x.values,y.values)[0,1]\u001b[0m\n\u001b[0m    ^\u001b[0m\n\u001b[0;31mIndentationError\u001b[0m\u001b[0;31m:\u001b[0m unexpected indent\n"
     ]
    }
   ],
   "source": [
    "y= combined_df[(combined_df[\"Temperature(F)\"]> 60)&(combined_df.Year == 2016) & (combined_df.Month==6)]['Temperature(F)']\n",
    "x= combined_df[(combined_df[\"Temperature(F)\"]>60)&(combined_df.Year == 2016) & (combined_df.Month==6)]['DAYTON_MW']\n",
    "x2 =combined_df.iloc[150:]['Humidity']\n",
    "plt.scatter(x,y)\n",
    "\n",
    "plt.show()\n",
    " = np.cov(x.values,y.values)[0,1]\n",
    "#x.values\n"
   ]
  },
  {
   "cell_type": "code",
   "execution_count": 36,
   "metadata": {},
   "outputs": [
    {
     "name": "stdout",
     "output_type": "stream",
     "text": [
      "<class 'pandas.core.frame.DataFrame'>\n",
      "DatetimeIndex: 24 entries, 2016-07-01 00:00:00 to 2016-07-01 23:00:00\n",
      "Data columns (total 12 columns):\n",
      "DAYTON_MW          24 non-null int64\n",
      "City               24 non-null object\n",
      "Year               24 non-null float64\n",
      "Month              24 non-null float64\n",
      "Day                24 non-null float64\n",
      "Day_of_Week        24 non-null float64\n",
      "Weekend            24 non-null float64\n",
      "Temperature(F)     24 non-null float64\n",
      "Humidity           24 non-null float64\n",
      "Wind Speed(mph)    24 non-null float64\n",
      "Rain Volume        5 non-null object\n",
      "Snow Volume        0 non-null object\n",
      "dtypes: float64(8), int64(1), object(3)\n",
      "memory usage: 2.4+ KB\n"
     ]
    }
   ],
   "source": [
    "\n",
    "First_Week_df = combined_df[(combined_df.index >= '2016-07-01') & (combined_df.index < '2016-07-02')]\n",
    "June = combined_df\n",
    "FWmean = round(First_Week_df['Temperature(F)'].mean(),2)\n",
    "FWstd = round(First_Week_df[\"Temperature(F)\"].std(),2)\n",
    "FWsem = round(First_Week_df[\"Temperature(F)\"].sem(),2)\n",
    "FWsem\n",
    "First_Week_df['DAYTON_MW'].mean()\n",
    "First_Week_df.info()"
   ]
  },
  {
   "cell_type": "code",
   "execution_count": 37,
   "metadata": {},
   "outputs": [
    {
     "data": {
      "text/plain": [
       "[<matplotlib.lines.Line2D at 0x1a24566dd8>]"
      ]
     },
     "execution_count": 37,
     "metadata": {},
     "output_type": "execute_result"
    },
    {
     "data": {
      "image/png": "[encoded data removed]",
      "text/plain": [
       "<Figure size 1008x504 with 1 Axes>"
      ]
     },
     "metadata": {
      "needs_background": "light"
     },
     "output_type": "display_data"
    }
   ],
   "source": [
    "plt.figure(figsize=[14,7])\n",
    "\n",
    "\n",
    "x = First_Week_df.index   #['Temperature(F)']\n",
    "y = First_Week_df[\"DAYTON_MW\"]\n",
    "y2 = First_Week_df['Temperature(F)']*25\n",
    "#plt.xlim(\"2016-05-01\",\"2016-05-08\")\n",
    "plt.plot(x,y)\n",
    "plt.plot(x,y2)\n",
    "\n"
   ]
  },
  {
   "cell_type": "code",
   "execution_count": 38,
   "metadata": {},
   "outputs": [
    {
     "data": {
      "text/plain": [
       "DatetimeIndex(['2016-07-01 00:00:00', '2016-07-01 01:00:00',\n",
       "               '2016-07-01 02:00:00', '2016-07-01 03:00:00',\n",
       "               '2016-07-01 04:00:00', '2016-07-01 05:00:00',\n",
       "               '2016-07-01 06:00:00', '2016-07-01 07:00:00',\n",
       "               '2016-07-01 08:00:00', '2016-07-01 09:00:00',\n",
       "               '2016-07-01 10:00:00', '2016-07-01 11:00:00',\n",
       "               '2016-07-01 12:00:00', '2016-07-01 13:00:00',\n",
       "               '2016-07-01 14:00:00', '2016-07-01 15:00:00',\n",
       "               '2016-07-01 16:00:00', '2016-07-01 17:00:00',\n",
       "               '2016-07-01 18:00:00', '2016-07-01 19:00:00',\n",
       "               '2016-07-01 20:00:00', '2016-07-01 21:00:00',\n",
       "               '2016-07-01 22:00:00', '2016-07-01 23:00:00'],\n",
       "              dtype='datetime64[ns]', name='Datetime', freq=None)"
      ]
     },
     "execution_count": 38,
     "metadata": {},
     "output_type": "execute_result"
    }
   ],
   "source": [
    "First_Week_df.index"
   ]
  },
  {
   "cell_type": "code",
   "execution_count": null,
   "metadata": {},
   "outputs": [],
   "source": []
  },
  {
   "cell_type": "code",
   "execution_count": null,
   "metadata": {},
   "outputs": [],
   "source": []
  },
  {
   "cell_type": "code",
   "execution_count": null,
   "metadata": {},
   "outputs": [],
   "source": []
  }
 ],
 "metadata": {
  "kernelspec": {
   "display_name": "Python 3",
   "language": "python",
   "name": "python3"
  },
  "language_info": {
   "codemirror_mode": {
    "name": "ipython",
    "version": 3
   },
   "file_extension": ".py",
   "mimetype": "text/x-python",
   "name": "python",
   "nbconvert_exporter": "python",
   "pygments_lexer": "ipython3",
   "version": "3.7.0"
  }
 },
 "nbformat": 4,
 "nbformat_minor": 2
}
